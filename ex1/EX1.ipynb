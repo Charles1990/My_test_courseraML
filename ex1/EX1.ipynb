{
 "cells": [
  {
   "cell_type": "code",
   "execution_count": 2,
   "metadata": {},
   "outputs": [],
   "source": [
    "%matplotlib inline\n",
    "import numpy as np\n",
    "import pandas as pd\n",
    "import matplotlib.pyplot as plt"
   ]
  },
  {
   "cell_type": "code",
   "execution_count": 3,
   "metadata": {},
   "outputs": [],
   "source": [
    "datafile='/Users/yezhibin/CourseraML/ex1/data/ex1data1.txt'"
   ]
  },
  {
   "cell_type": "code",
   "execution_count": 20,
   "metadata": {},
   "outputs": [],
   "source": [
    "cols=np.loadtxt(datafile,delimiter=',',usecols=(0,1),unpack=True)\n",
    "X=np.transpose(np.array(cols[:-1]))\n",
    "Y=np.transpose(np.array(cols[1:]))\n",
    "m=Y.size\n",
    "X=np.insert(X,0,1,axis=1)"
   ]
  },
  {
   "cell_type": "code",
   "execution_count": 28,
   "metadata": {},
   "outputs": [
    {
     "data": {
      "text/plain": [
       "array([[  6.1101 ,   5.5277 ,   8.5186 ,   7.0032 ,   5.8598 ,   8.3829 ,\n",
       "          7.4764 ,   8.5781 ,   6.4862 ,   5.0546 ,   5.7107 ,  14.164  ,\n",
       "          5.734  ,   8.4084 ,   5.6407 ,   5.3794 ,   6.3654 ,   5.1301 ,\n",
       "          6.4296 ,   7.0708 ,   6.1891 ,  20.27   ,   5.4901 ,   6.3261 ,\n",
       "          5.5649 ,  18.945  ,  12.828  ,  10.957  ,  13.176  ,  22.203  ,\n",
       "          5.2524 ,   6.5894 ,   9.2482 ,   5.8918 ,   8.2111 ,   7.9334 ,\n",
       "          8.0959 ,   5.6063 ,  12.836  ,   6.3534 ,   5.4069 ,   6.8825 ,\n",
       "         11.708  ,   5.7737 ,   7.8247 ,   7.0931 ,   5.0702 ,   5.8014 ,\n",
       "         11.7    ,   5.5416 ,   7.5402 ,   5.3077 ,   7.4239 ,   7.6031 ,\n",
       "          6.3328 ,   6.3589 ,   6.2742 ,   5.6397 ,   9.3102 ,   9.4536 ,\n",
       "          8.8254 ,   5.1793 ,  21.279  ,  14.908  ,  18.959  ,   7.2182 ,\n",
       "          8.2951 ,  10.236  ,   5.4994 ,  20.341  ,  10.136  ,   7.3345 ,\n",
       "          6.0062 ,   7.2259 ,   5.0269 ,   6.5479 ,   7.5386 ,   5.0365 ,\n",
       "         10.274  ,   5.1077 ,   5.7292 ,   5.1884 ,   6.3557 ,   9.7687 ,\n",
       "          6.5159 ,   8.5172 ,   9.1802 ,   6.002  ,   5.5204 ,   5.0594 ,\n",
       "          5.7077 ,   7.6366 ,   5.8707 ,   5.3054 ,   8.2934 ,  13.394  ,\n",
       "          5.4369 ],\n",
       "       [ 17.592  ,   9.1302 ,  13.662  ,  11.854  ,   6.8233 ,  11.886  ,\n",
       "          4.3483 ,  12.     ,   6.5987 ,   3.8166 ,   3.2522 ,  15.505  ,\n",
       "          3.1551 ,   7.2258 ,   0.71618,   3.5129 ,   5.3048 ,   0.56077,\n",
       "          3.6518 ,   5.3893 ,   3.1386 ,  21.767  ,   4.263  ,   5.1875 ,\n",
       "          3.0825 ,  22.638  ,  13.501  ,   7.0467 ,  14.692  ,  24.147  ,\n",
       "         -1.22   ,   5.9966 ,  12.134  ,   1.8495 ,   6.5426 ,   4.5623 ,\n",
       "          4.1164 ,   3.3928 ,  10.117  ,   5.4974 ,   0.55657,   3.9115 ,\n",
       "          5.3854 ,   2.4406 ,   6.7318 ,   1.0463 ,   5.1337 ,   1.844  ,\n",
       "          8.0043 ,   1.0179 ,   6.7504 ,   1.8396 ,   4.2885 ,   4.9981 ,\n",
       "          1.4233 ,  -1.4211 ,   2.4756 ,   4.6042 ,   3.9624 ,   5.4141 ,\n",
       "          5.1694 ,  -0.74279,  17.929  ,  12.054  ,  17.054  ,   4.8852 ,\n",
       "          5.7442 ,   7.7754 ,   1.0173 ,  20.992  ,   6.6799 ,   4.0259 ,\n",
       "          1.2784 ,   3.3411 ,  -2.6807 ,   0.29678,   3.8845 ,   5.7014 ,\n",
       "          6.7526 ,   2.0576 ,   0.47953,   0.20421,   0.67861,   7.5435 ,\n",
       "          5.3436 ,   4.2415 ,   6.7981 ,   0.92695,   0.152  ,   2.8214 ,\n",
       "          1.8451 ,   4.2959 ,   7.2029 ,   1.9869 ,   0.14454,   9.0551 ,\n",
       "          0.61705]])"
      ]
     },
     "execution_count": 28,
     "metadata": {},
     "output_type": "execute_result"
    }
   ],
   "source": [
    "cols"
   ]
  },
  {
   "cell_type": "code",
   "execution_count": 21,
   "metadata": {},
   "outputs": [
    {
     "data": {
      "text/plain": [
       "Text(0.5,0,'Population 0f city in $10000s')"
      ]
     },
     "execution_count": 21,
     "metadata": {},
     "output_type": "execute_result"
    },
    {
     "data": {
      "image/png": "[encoded data removed]",
      "text/plain": [
       "<matplotlib.figure.Figure at 0x10c99c9b0>"
      ]
     },
     "metadata": {},
     "output_type": "display_data"
    }
   ],
   "source": [
    "plt.figure(figsize=(10,6))\n",
    "plt.plot(X[:,1],Y[:,0],'rx',markersize=10)\n",
    "plt.grid(True)\n",
    "plt.ylabel('Profit in $10000s')\n",
    "plt.xlabel('Population 0f city in $10000s')"
   ]
  },
  {
   "cell_type": "code",
   "execution_count": null,
   "metadata": {},
   "outputs": [],
   "source": []
  },
  {
   "cell_type": "code",
   "execution_count": null,
   "metadata": {},
   "outputs": [],
   "source": []
  },
  {
   "cell_type": "code",
   "execution_count": null,
   "metadata": {},
   "outputs": [],
   "source": []
  },
  {
   "cell_type": "code",
   "execution_count": null,
   "metadata": {},
   "outputs": [],
   "source": []
  },
  {
   "cell_type": "code",
   "execution_count": null,
   "metadata": {},
   "outputs": [],
   "source": []
  },
  {
   "cell_type": "code",
   "execution_count": null,
   "metadata": {},
   "outputs": [],
   "source": []
  }
 ],
 "metadata": {
  "kernelspec": {
   "display_name": "Python [default]",
   "language": "python",
   "name": "python3"
  },
  "language_info": {
   "codemirror_mode": {
    "name": "ipython",
    "version": 3
   },
   "file_extension": ".py",
   "mimetype": "text/x-python",
   "name": "python",
   "nbconvert_exporter": "python",
   "pygments_lexer": "ipython3",
   "version": "3.6.3"
  }
 },
 "nbformat": 4,
 "nbformat_minor": 2
}
